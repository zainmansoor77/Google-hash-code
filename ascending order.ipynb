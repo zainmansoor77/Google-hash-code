{
 "cells": [
  {
   "cell_type": "markdown",
   "metadata": {},
   "source": [
    "# BUILT-IN"
   ]
  },
  {
   "cell_type": "code",
   "execution_count": 10,
   "metadata": {},
   "outputs": [
    {
     "name": "stdout",
     "output_type": "stream",
     "text": [
      "[1, 3, 4, 5, 6, 6, 7, 8, 8, 9, 9, 11, 23, 54, 98]\n",
      "[9, 8, 6, 7, 1, 5, 3, 4, 6, 9, 23, 54, 11, 8, 98]\n"
     ]
    }
   ],
   "source": [
    "a = [9,8,6,7,1,5,3,4,6,9,23,54,11,8,98]\n",
    "b = a.copy()\n",
    "b.sort()\n",
    "print(b)\n",
    "print(a)"
   ]
  },
  {
   "cell_type": "code",
   "execution_count": 11,
   "metadata": {},
   "outputs": [
    {
     "name": "stdout",
     "output_type": "stream",
     "text": [
      "[1, 3, 4, 5, 6, 6, 7, 8, 8, 9, 9, 11, 23, 54, 98]\n",
      "[1, 3, 4, 5, 6, 6, 7, 8, 8, 9, 9, 11, 23, 54, 98]\n"
     ]
    }
   ],
   "source": [
    "a = [9,8,6,7,1,5,3,4,6,9,23,54,11,8,98]\n",
    "b = a\n",
    "b.sort()\n",
    "print(b)\n",
    "print(a)"
   ]
  },
  {
   "cell_type": "code",
   "execution_count": null,
   "metadata": {},
   "outputs": [],
   "source": []
  }
 ],
 "metadata": {
  "kernelspec": {
   "display_name": "Python 3",
   "language": "python",
   "name": "python3"
  },
  "language_info": {
   "codemirror_mode": {
    "name": "ipython",
    "version": 3
   },
   "file_extension": ".py",
   "mimetype": "text/x-python",
   "name": "python",
   "nbconvert_exporter": "python",
   "pygments_lexer": "ipython3",
   "version": "3.7.5"
  }
 },
 "nbformat": 4,
 "nbformat_minor": 2
}
