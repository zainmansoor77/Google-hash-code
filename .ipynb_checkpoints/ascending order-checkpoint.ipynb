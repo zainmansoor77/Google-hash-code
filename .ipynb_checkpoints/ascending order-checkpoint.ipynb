{
 "cells": [
  {
   "cell_type": "markdown",
   "metadata": {},
   "source": [
    "# BUILT-IN command for ascending order"
   ]
  },
  {
   "cell_type": "code",
   "execution_count": 43,
   "metadata": {},
   "outputs": [
    {
     "name": "stdout",
     "output_type": "stream",
     "text": [
      "[1, 3, 4, 5, 6, 6, 7, 8, 8, 9, 9, 11, 23, 54, 98]\n",
      "[9, 8, 6, 7, 1, 5, 3, 4, 6, 9, 23, 54, 11, 8, 98]\n"
     ]
    }
   ],
   "source": [
    "a = [9,8,6,7,1,5,3,4,6,9,23,54,11,8,98]\n",
    "b = a.copy()\n",
    "b.sort()\n",
    "print(b)\n",
    "print(a)"
   ]
  },
  {
   "cell_type": "code",
   "execution_count": 44,
   "metadata": {},
   "outputs": [
    {
     "name": "stdout",
     "output_type": "stream",
     "text": [
      "[1, 3, 4, 5, 6, 6, 7, 8, 8, 9, 9, 11, 23, 54, 98]\n",
      "[1, 3, 4, 5, 6, 6, 7, 8, 8, 9, 9, 11, 23, 54, 98]\n"
     ]
    }
   ],
   "source": [
    "a = [9,8,6,7,1,5,3,4,6,9,23,54,11,8,98]\n",
    "b = a\n",
    "b.sort()\n",
    "print(b)\n",
    "print(a)"
   ]
  },
  {
   "cell_type": "markdown",
   "metadata": {},
   "source": [
    "# Bubble Sort Algorithm for ascending arrangement"
   ]
  },
  {
   "cell_type": "code",
   "execution_count": 45,
   "metadata": {},
   "outputs": [
    {
     "name": "stdout",
     "output_type": "stream",
     "text": [
      "[1, 3, 4, 5, 6, 6, 7, 8, 8, 9, 9, 11, 23, 54, 98, 100, 104]\n"
     ]
    }
   ],
   "source": [
    "a = [100,9,8,6,7,1,5,104,3,4,6,9,23,54,11,8,98]\n",
    "t = len(a)\n",
    "for j in range(t ,0,-1):\n",
    "    for i in range(1,j):\n",
    "        if a[i-1] > a[i]:\n",
    "            a[i - 1],a[i] = a[i], a[i - 1]\n",
    "     \n",
    "print(a)    "
   ]
  },
  {
   "cell_type": "markdown",
   "metadata": {},
   "source": [
    "# BUILT-IN command for descending order"
   ]
  },
  {
   "cell_type": "code",
   "execution_count": 46,
   "metadata": {},
   "outputs": [
    {
     "name": "stdout",
     "output_type": "stream",
     "text": [
      "[104, 100, 98, 54, 23, 11, 9, 9, 8, 8, 7, 6, 6, 5, 4, 3, 1]\n"
     ]
    }
   ],
   "source": [
    "a = [100,9,8,6,7,1,5,104,3,4,6,9,23,54,11,8,98]\n",
    "a.sort(reverse = True)\n",
    "print(a)"
   ]
  },
  {
   "cell_type": "code",
   "execution_count": null,
   "metadata": {},
   "outputs": [],
   "source": []
  }
 ],
 "metadata": {
  "kernelspec": {
   "display_name": "Python 3",
   "language": "python",
   "name": "python3"
  },
  "language_info": {
   "codemirror_mode": {
    "name": "ipython",
    "version": 3
   },
   "file_extension": ".py",
   "mimetype": "text/x-python",
   "name": "python",
   "nbconvert_exporter": "python",
   "pygments_lexer": "ipython3",
   "version": "3.7.5"
  }
 },
 "nbformat": 4,
 "nbformat_minor": 2
}
