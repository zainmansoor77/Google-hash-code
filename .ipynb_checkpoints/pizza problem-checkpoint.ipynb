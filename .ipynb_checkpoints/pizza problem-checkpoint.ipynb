{
 "cells": [
  {
   "cell_type": "code",
   "execution_count": 5,
   "metadata": {},
   "outputs": [
    {
     "name": "stdout",
     "output_type": "stream",
     "text": [
      "a_example1.out\n",
      "b_small.out\n",
      "c_medium.out\n",
      "d_quite_big.out\n",
      "e_also_big.out\n"
     ]
    }
   ],
   "source": [
    "q = \"a_example.in\"\n",
    "w = \"b_small.in\"\n",
    "r = \"c_medium.in\"\n",
    "t = \"d_quite_big.in\"\n",
    "y = \"e_also_big.in\"\n",
    "\n",
    "files = [q,w,r,t,y]\n",
    "for file in files:\n",
    "\n",
    "    with open(file,\"r\") as f:\n",
    "        a = list()\n",
    "        for line in f:\n",
    "            line = line.strip()\n",
    "            line = line.split()\n",
    "            a.append(line)\n",
    "        \n",
    "    ms = a[0][0] # max number of slice we can have\n",
    "    ms = int(ms)\n",
    "\n",
    "    tp = a[0][1] #total number of pizza we can have\n",
    "    tp = int(tp)\n",
    "\n",
    "    w = a[1]\n",
    "    #w.sort(reverse = True)\n",
    "\n",
    "    #changing string in w to integer\n",
    "    for i in range(len(w)):\n",
    "        w[i] = int(w[i])    \n",
    "\n",
    "\n",
    "    ind = list()\n",
    "    lind = list()\n",
    "    los = list()\n",
    "\n",
    "    for j in range(len(w)):\n",
    "        s =0\n",
    "        ind = []\n",
    "        #print(j)\n",
    "        for i in range(len(w)-1-j,-1,-1):\n",
    "            #print(i)\n",
    "            s += w[i]\n",
    "\n",
    "            if s < ms:\n",
    "                ind.append(i)\n",
    "                continue\n",
    "    \n",
    "            elif s == ms:\n",
    "                ind.append(i)\n",
    "                break\n",
    "        \n",
    "            elif s > ms:\n",
    "                s -= w[i]\n",
    "        #print()        \n",
    "        los.append(s)        \n",
    "        lind.append(ind)       \n",
    "        \n",
    "    #print(los)\n",
    "    #print(lind)\n",
    "\n",
    "    os = max(los) # it the total number of slice we wil order\n",
    "    #print(os)\n",
    "\n",
    "    d = los.index(os)# index of max number of slice\n",
    "    #print(d)\n",
    "\n",
    "    e =lind[d] #e is final indexes for slices\n",
    "    e.sort()\n",
    "    #print(e)\n",
    "    z = len(e) # number of pizza we will order\n",
    "    file = file.replace(\"in\",\"out\")\n",
    "    print(file)\n",
    "    \n",
    "    with open(file,\"w\") as f:\n",
    "        z = str(z)\n",
    "        f.write(z)\n",
    "        f.write(\"\\n\")\n",
    "        for i in e:\n",
    "            i = str(i)\n",
    "            f.write(i)\n",
    "            f.write(\" \")"
   ]
  },
  {
   "cell_type": "code",
   "execution_count": 1,
   "metadata": {},
   "outputs": [],
   "source": [
    "file = open(\"a_example.in\",\"r\")\n",
    "file.close()"
   ]
  },
  {
   "cell_type": "code",
   "execution_count": 38,
   "metadata": {},
   "outputs": [
    {
     "data": {
      "text/plain": [
       "[95, 95, 82, 4, 36, 32, 29, 18, 15, 14]"
      ]
     },
     "execution_count": 38,
     "metadata": {},
     "output_type": "execute_result"
    }
   ],
   "source": [
    "w"
   ]
  },
  {
   "cell_type": "code",
   "execution_count": 39,
   "metadata": {},
   "outputs": [
    {
     "data": {
      "text/plain": [
       "[95, 95, 82, 4, 36, 32, 29, 18, 15, 14]"
      ]
     },
     "execution_count": 39,
     "metadata": {},
     "output_type": "execute_result"
    }
   ],
   "source": [
    "w"
   ]
  },
  {
   "cell_type": "code",
   "execution_count": 40,
   "metadata": {},
   "outputs": [
    {
     "data": {
      "text/plain": [
       "[['100', '10'], [95, 95, 82, 4, 36, 32, 29, 18, 15, 14]]"
      ]
     },
     "execution_count": 40,
     "metadata": {},
     "output_type": "execute_result"
    }
   ],
   "source": [
    "a"
   ]
  },
  {
   "cell_type": "code",
   "execution_count": 41,
   "metadata": {},
   "outputs": [
    {
     "data": {
      "text/plain": [
       "100"
      ]
     },
     "execution_count": 41,
     "metadata": {},
     "output_type": "execute_result"
    }
   ],
   "source": [
    "ms"
   ]
  },
  {
   "cell_type": "code",
   "execution_count": 18,
   "metadata": {},
   "outputs": [
    {
     "data": {
      "text/plain": [
       "'4'"
      ]
     },
     "execution_count": 18,
     "metadata": {},
     "output_type": "execute_result"
    }
   ],
   "source": [
    "ts"
   ]
  },
  {
   "cell_type": "code",
   "execution_count": 24,
   "metadata": {},
   "outputs": [
    {
     "ename": "TypeError",
     "evalue": "int() argument must be a string, a bytes-like object or a number, not 'list'",
     "output_type": "error",
     "traceback": [
      "\u001b[1;31m---------------------------------------------------------------------------\u001b[0m",
      "\u001b[1;31mTypeError\u001b[0m                                 Traceback (most recent call last)",
      "\u001b[1;32m<ipython-input-24-967e48be3633>\u001b[0m in \u001b[0;36m<module>\u001b[1;34m\u001b[0m\n\u001b[1;32m----> 1\u001b[1;33m \u001b[0mw\u001b[0m \u001b[1;33m=\u001b[0m \u001b[0mint\u001b[0m\u001b[1;33m(\u001b[0m\u001b[0mw\u001b[0m\u001b[1;33m)\u001b[0m\u001b[1;33m\u001b[0m\u001b[1;33m\u001b[0m\u001b[0m\n\u001b[0m",
      "\u001b[1;31mTypeError\u001b[0m: int() argument must be a string, a bytes-like object or a number, not 'list'"
     ]
    }
   ],
   "source": []
  },
  {
   "cell_type": "code",
   "execution_count": null,
   "metadata": {},
   "outputs": [],
   "source": []
  }
 ],
 "metadata": {
  "kernelspec": {
   "display_name": "Python 3",
   "language": "python",
   "name": "python3"
  },
  "language_info": {
   "codemirror_mode": {
    "name": "ipython",
    "version": 3
   },
   "file_extension": ".py",
   "mimetype": "text/x-python",
   "name": "python",
   "nbconvert_exporter": "python",
   "pygments_lexer": "ipython3",
   "version": "3.7.5"
  }
 },
 "nbformat": 4,
 "nbformat_minor": 2
}
