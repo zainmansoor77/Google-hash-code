{
 "cells": [
  {
   "cell_type": "code",
   "execution_count": 37,
   "metadata": {},
   "outputs": [
    {
     "name": "stdout",
     "output_type": "stream",
     "text": [
      "['17', '4']\n",
      "\n",
      "['2', '5', '6', '8']\n",
      "\n"
     ]
    }
   ],
   "source": [
    "with open (\"a_example.in\",\"r\") as f:\n",
    "    a = list()\n",
    "    for line in f:\n",
    "        a = line.strip()\n",
    "        a = line.split()\n",
    "        print(a)\n",
    "        print()\n",
    "      "
   ]
  },
  {
   "cell_type": "code",
   "execution_count": 14,
   "metadata": {},
   "outputs": [
    {
     "name": "stdout",
     "output_type": "stream",
     "text": [
      "17 4\n",
      "\n",
      "2 5 6 8\n",
      "\n",
      "['17 4\\n', '2 5 6 8\\n']\n"
     ]
    }
   ],
   "source": [
    "f = open(\"a_example.in\",\"r\")\n",
    "a = list()\n",
    "for x in f:\n",
    "    a.append(x)\n",
    "    print(x)\n",
    "print(a)    "
   ]
  },
  {
   "cell_type": "code",
   "execution_count": 15,
   "metadata": {},
   "outputs": [
    {
     "name": "stdout",
     "output_type": "stream",
     "text": [
      "17 4\n",
      "2 5 6 8\n",
      "\n"
     ]
    }
   ],
   "source": [
    "g = open(\"a_example.in\",\"r\")\n",
    "b = g.read()\n",
    "print(b)"
   ]
  },
  {
   "cell_type": "code",
   "execution_count": 16,
   "metadata": {},
   "outputs": [
    {
     "data": {
      "text/plain": [
       "'17 4\\n2 5 6 8\\n'"
      ]
     },
     "execution_count": 16,
     "metadata": {},
     "output_type": "execute_result"
    }
   ],
   "source": [
    "b"
   ]
  },
  {
   "cell_type": "code",
   "execution_count": 17,
   "metadata": {},
   "outputs": [
    {
     "name": "stdout",
     "output_type": "stream",
     "text": [
      "17 4\n",
      "\n",
      "2 5 6 8\n",
      "\n"
     ]
    }
   ],
   "source": [
    "h = open(\"a_example.in\",\"r\")\n",
    "c = h.readline()\n",
    "d = h.readline()\n",
    "print(c)\n",
    "print(d)"
   ]
  },
  {
   "cell_type": "code",
   "execution_count": 18,
   "metadata": {},
   "outputs": [
    {
     "data": {
      "text/plain": [
       "'17 4\\n'"
      ]
     },
     "execution_count": 18,
     "metadata": {},
     "output_type": "execute_result"
    }
   ],
   "source": [
    "c"
   ]
  },
  {
   "cell_type": "code",
   "execution_count": 19,
   "metadata": {},
   "outputs": [
    {
     "data": {
      "text/plain": [
       "'2 5 6 8\\n'"
      ]
     },
     "execution_count": 19,
     "metadata": {},
     "output_type": "execute_result"
    }
   ],
   "source": [
    "d"
   ]
  },
  {
   "cell_type": "code",
   "execution_count": 20,
   "metadata": {},
   "outputs": [
    {
     "name": "stdout",
     "output_type": "stream",
     "text": [
      "2\n"
     ]
    }
   ],
   "source": [
    "g = open(\"a_example.in\",\"r\")\n",
    "count = 0\n",
    "for h in g:\n",
    "    count += 1\n",
    "    '''if h.find(\"5\"):\n",
    "        print(h.find(\"5\"))\n",
    "        print(h)'''\n",
    "    \n",
    "print(count)   # number of lines \n",
    "    "
   ]
  },
  {
   "cell_type": "code",
   "execution_count": 21,
   "metadata": {},
   "outputs": [
    {
     "name": "stdout",
     "output_type": "stream",
     "text": [
      "2\n"
     ]
    }
   ],
   "source": [
    "g = open(\"a_example.in\",\"r\")\n",
    "count = 0\n",
    "for h in g:\n",
    "    count += 1\n",
    "       \n",
    "print(count)   # number of lines\n"
   ]
  },
  {
   "cell_type": "code",
   "execution_count": 22,
   "metadata": {},
   "outputs": [
    {
     "name": "stdout",
     "output_type": "stream",
     "text": [
      "2 5 6 8\n",
      "\n"
     ]
    }
   ],
   "source": [
    "g = open(\"a_example.in\",\"r\")\n",
    "for h in g:\n",
    "    if h.find(\"5\") != -1:\n",
    "        print(h)"
   ]
  },
  {
   "cell_type": "code",
   "execution_count": 23,
   "metadata": {},
   "outputs": [
    {
     "name": "stdout",
     "output_type": "stream",
     "text": [
      "17 4\n",
      "\n"
     ]
    }
   ],
   "source": [
    "f = open(\"a_example.in\",\"r\")\n",
    "#a = list()\n",
    "for line in f:\n",
    "    if line.startswith(\"17\"):\n",
    "        print(line)\n",
    "    \n",
    "  \n",
    "    "
   ]
  },
  {
   "cell_type": "code",
   "execution_count": 24,
   "metadata": {},
   "outputs": [
    {
     "data": {
      "text/plain": [
       "<_io.TextIOWrapper name='a_example.in' mode='r' encoding='cp1252'>"
      ]
     },
     "execution_count": 24,
     "metadata": {},
     "output_type": "execute_result"
    }
   ],
   "source": [
    "g"
   ]
  },
  {
   "cell_type": "code",
   "execution_count": 13,
   "metadata": {},
   "outputs": [],
   "source": [
    "a = list()"
   ]
  },
  {
   "cell_type": "code",
   "execution_count": null,
   "metadata": {},
   "outputs": [],
   "source": []
  }
 ],
 "metadata": {
  "kernelspec": {
   "display_name": "Python 3",
   "language": "python",
   "name": "python3"
  },
  "language_info": {
   "codemirror_mode": {
    "name": "ipython",
    "version": 3
   },
   "file_extension": ".py",
   "mimetype": "text/x-python",
   "name": "python",
   "nbconvert_exporter": "python",
   "pygments_lexer": "ipython3",
   "version": "3.7.5"
  }
 },
 "nbformat": 4,
 "nbformat_minor": 2
}
