{
 "cells": [
  {
   "cell_type": "code",
   "execution_count": null,
   "metadata": {},
   "outputs": [],
   "source": [
    "# a_example.in\n",
    "# b_small.in\n",
    "# c_medium.in\n",
    "# d_quite_big.in\n",
    "# e_also_big.in"
   ]
  },
  {
   "cell_type": "code",
   "execution_count": 201,
   "metadata": {},
   "outputs": [
    {
     "data": {
      "text/plain": [
       "[['100', '10'], ['4', '14', '15', '18', '29', '32', '36', '82', '95', '95']]"
      ]
     },
     "execution_count": 201,
     "metadata": {},
     "output_type": "execute_result"
    }
   ],
   "source": [
    "lists = list()\n",
    "import csv\n",
    "with open(\"b_small.in\", newline = '\\n') as data:\n",
    "    data_reader = csv.reader(data, delimiter=\" \")\n",
    "    for line in data_reader:\n",
    "        lists.append(line)\n",
    "lists        "
   ]
  },
  {
   "cell_type": "code",
   "execution_count": 202,
   "metadata": {},
   "outputs": [],
   "source": [
    "ms = lists[0][0]\n",
    "tp = lists[0][1]"
   ]
  },
  {
   "cell_type": "code",
   "execution_count": 203,
   "metadata": {},
   "outputs": [
    {
     "data": {
      "text/plain": [
       "100"
      ]
     },
     "execution_count": 203,
     "metadata": {},
     "output_type": "execute_result"
    }
   ],
   "source": [
    "ms= int(ms)\n",
    "ms"
   ]
  },
  {
   "cell_type": "code",
   "execution_count": 204,
   "metadata": {},
   "outputs": [
    {
     "data": {
      "text/plain": [
       "10"
      ]
     },
     "execution_count": 204,
     "metadata": {},
     "output_type": "execute_result"
    }
   ],
   "source": [
    "tp = int(tp)\n",
    "tp"
   ]
  },
  {
   "cell_type": "code",
   "execution_count": 205,
   "metadata": {},
   "outputs": [],
   "source": [
    "asl = lists[1]"
   ]
  },
  {
   "cell_type": "code",
   "execution_count": 206,
   "metadata": {},
   "outputs": [
    {
     "name": "stdout",
     "output_type": "stream",
     "text": [
      "[4, 14, 15, 18, 29, 32, 36, 82, 95, 95]\n"
     ]
    }
   ],
   "source": [
    "asl2 = list()\n",
    "for l in asl:\n",
    "    asl2.append(int(l))\n",
    "    \n",
    "print(asl2)    "
   ]
  },
  {
   "cell_type": "code",
   "execution_count": 207,
   "metadata": {},
   "outputs": [
    {
     "name": "stdout",
     "output_type": "stream",
     "text": [
      "99\n"
     ]
    }
   ],
   "source": [
    "sum = 0\n",
    "for i in asl2[-1:-(len(asl)+1):-1]:\n",
    "    sum += i\n",
    "    if sum < ms:\n",
    "        continue\n",
    "    elif sum == ms:\n",
    "        break\n",
    "    else:\n",
    "        sum -= i\n",
    "print(sum)        \n",
    "        "
   ]
  },
  {
   "cell_type": "code",
   "execution_count": 208,
   "metadata": {},
   "outputs": [
    {
     "name": "stdout",
     "output_type": "stream",
     "text": [
      "95\n",
      "95\n",
      "82\n",
      "36\n",
      "32\n",
      "29\n",
      "18\n",
      "15\n",
      "14\n",
      "4\n"
     ]
    }
   ],
   "source": [
    "for j in asl[-1::-1]:\n",
    "    print(j)"
   ]
  },
  {
   "cell_type": "code",
   "execution_count": 209,
   "metadata": {},
   "outputs": [
    {
     "name": "stdout",
     "output_type": "stream",
     "text": [
      "range(-1, -11, -1)\n",
      "-1\n",
      "-2\n",
      "-3\n",
      "-4\n",
      "-5\n",
      "-6\n",
      "-7\n",
      "-8\n",
      "-9\n",
      "-10\n"
     ]
    }
   ],
   "source": [
    "a = range(-1,-(len(asl)+1),-1)\n",
    "print(a)\n",
    "for i in a:\n",
    "    print(i)"
   ]
  },
  {
   "cell_type": "code",
   "execution_count": 210,
   "metadata": {},
   "outputs": [
    {
     "name": "stdout",
     "output_type": "stream",
     "text": [
      "95\n",
      "82\n",
      "36\n",
      "32\n",
      "29\n",
      "18\n",
      "15\n",
      "14\n",
      "4\n"
     ]
    }
   ],
   "source": [
    "for j in asl[-2::-1]:\n",
    "    print(j)"
   ]
  },
  {
   "cell_type": "code",
   "execution_count": 211,
   "metadata": {},
   "outputs": [
    {
     "name": "stdout",
     "output_type": "stream",
     "text": [
      "[99, 99, 100, 97, 98, 80, 51, 33, 18, 4]\n",
      "\n",
      "100\n"
     ]
    }
   ],
   "source": [
    "los = list()\n",
    "sum1 = 0\n",
    "\n",
    "for j in a:\n",
    "    sum1 = 0\n",
    "    for i in asl2[j::-1]:\n",
    "        sum1 += i\n",
    "        if sum1 < ms:\n",
    "            continue\n",
    "        elif sum1 == ms:\n",
    "            break\n",
    "        elif sum1 > ms:\n",
    "            sum1 -= i\n",
    "    los.append(sum1)\n",
    "print(los)\n",
    "print(\"\")\n",
    "print(max(los))\n",
    "        "
   ]
  },
  {
   "cell_type": "code",
   "execution_count": 212,
   "metadata": {},
   "outputs": [
    {
     "data": {
      "text/plain": [
       "[4, 14, 15, 18, 29, 32, 36, 82, 95, 95]"
      ]
     },
     "execution_count": 212,
     "metadata": {},
     "output_type": "execute_result"
    }
   ],
   "source": [
    "asl2"
   ]
  },
  {
   "cell_type": "code",
   "execution_count": 142,
   "metadata": {},
   "outputs": [
    {
     "name": "stdout",
     "output_type": "stream",
     "text": [
      "100\n"
     ]
    }
   ],
   "source": [
    "sum = 0\n",
    "for i in asl2[-3::-1]:\n",
    "        sum += i\n",
    "        if sum < ms:\n",
    "            continue\n",
    "        elif sum == ms:\n",
    "            break\n",
    "        elif sum > ms:\n",
    "            sum -= i\n",
    "print(sum)            "
   ]
  },
  {
   "cell_type": "code",
   "execution_count": 143,
   "metadata": {},
   "outputs": [
    {
     "data": {
      "text/plain": [
       "range(-1, -11, -1)"
      ]
     },
     "execution_count": 143,
     "metadata": {},
     "output_type": "execute_result"
    }
   ],
   "source": [
    "a"
   ]
  },
  {
   "cell_type": "code",
   "execution_count": 129,
   "metadata": {},
   "outputs": [
    {
     "data": {
      "text/plain": [
       "[5, 2]"
      ]
     },
     "execution_count": 129,
     "metadata": {},
     "output_type": "execute_result"
    }
   ],
   "source": [
    "asl2[-3::-1]"
   ]
  },
  {
   "cell_type": "code",
   "execution_count": null,
   "metadata": {},
   "outputs": [],
   "source": []
  }
 ],
 "metadata": {
  "kernelspec": {
   "display_name": "Python 3",
   "language": "python",
   "name": "python3"
  },
  "language_info": {
   "codemirror_mode": {
    "name": "ipython",
    "version": 3
   },
   "file_extension": ".py",
   "mimetype": "text/x-python",
   "name": "python",
   "nbconvert_exporter": "python",
   "pygments_lexer": "ipython3",
   "version": "3.7.5"
  }
 },
 "nbformat": 4,
 "nbformat_minor": 2
}
