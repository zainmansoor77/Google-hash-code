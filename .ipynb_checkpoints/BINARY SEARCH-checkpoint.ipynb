{
 "cells": [
  {
   "cell_type": "code",
   "execution_count": 1,
   "metadata": {},
   "outputs": [
    {
     "name": "stdout",
     "output_type": "stream",
     "text": [
      "[1, 3, 4, 5, 6, 6, 7, 8, 8, 9, 9, 11, 23, 54, 98, 100, 104]\n"
     ]
    }
   ],
   "source": [
    "a = [100,9,8,6,7,1,5,104,3,4,6,9,23,54,11,8,98]\n",
    "b = a.copy()\n",
    "b.sort()\n",
    "print(b)"
   ]
  },
  {
   "cell_type": "code",
   "execution_count": 2,
   "metadata": {},
   "outputs": [
    {
     "data": {
      "text/plain": [
       "[1, 3, 4, 5, 6, 6, 7, 8, 8, 9, 9, 11, 23, 54, 98, 100, 104]"
      ]
     },
     "execution_count": 2,
     "metadata": {},
     "output_type": "execute_result"
    }
   ],
   "source": [
    "b\n",
    "n = int(input(\"number to be searched: \"))"
   ]
  },
  {
   "cell_type": "code",
   "execution_count": null,
   "metadata": {},
   "outputs": [],
   "source": [
    "c = 9\n",
    "start = 0\n",
    "end = len(a)-1\n",
    "mid = int((max + min) / 2)\n",
    "for i in range (len(a) - 1):\n",
    "    if end<start:\n",
    "        print(\"Number not found\")\n",
    "        break\n",
    "\n",
    "    if a[mid] > c:\n",
    "        end = mid\n",
    "    \n",
    "    "
   ]
  }
 ],
 "metadata": {
  "kernelspec": {
   "display_name": "Python 3",
   "language": "python",
   "name": "python3"
  },
  "language_info": {
   "codemirror_mode": {
    "name": "ipython",
    "version": 3
   },
   "file_extension": ".py",
   "mimetype": "text/x-python",
   "name": "python",
   "nbconvert_exporter": "python",
   "pygments_lexer": "ipython3",
   "version": "3.7.5"
  }
 },
 "nbformat": 4,
 "nbformat_minor": 2
}
